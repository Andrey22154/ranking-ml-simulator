{
  "nbformat": 4,
  "nbformat_minor": 0,
  "metadata": {
    "colab": {
      "provenance": [],
      "authorship_tag": "ABX9TyO/H2Ix607gjP100tHwrrqG",
      "include_colab_link": true
    },
    "kernelspec": {
      "name": "python3",
      "display_name": "Python 3"
    },
    "language_info": {
      "name": "python"
    }
  },
  "cells": [
    {
      "cell_type": "markdown",
      "metadata": {
        "id": "view-in-github",
        "colab_type": "text"
      },
      "source": [
        "<a href=\"https://colab.research.google.com/github/Andrey22154/ranking-ml-simulator/blob/main/%D0%9C%D0%B5%D1%82%D1%80%D0%B8%D0%BA%D0%B8_%D0%B7%D0%B0%D0%B4%D0%B0%D1%87_%D1%80%D0%B0%D0%BD%D0%B6%D0%B8%D1%80%D0%BE%D0%B2%D0%B0%D0%BD%D0%B8%D1%8F_ML_%D0%A1%D0%B8%D0%BC%D1%83%D0%BB%D1%8F%D1%82%D0%BE%D1%80.ipynb\" target=\"_parent\"><img src=\"https://colab.research.google.com/assets/colab-badge.svg\" alt=\"Open In Colab\"/></a>"
      ]
    },
    {
      "cell_type": "markdown",
      "source": [
        "**CGp(Cumulative Gain)**"
      ],
      "metadata": {
        "id": "tZV2i-9FXdmz"
      }
    },
    {
      "cell_type": "code",
      "execution_count": 3,
      "metadata": {
        "id": "NbHqpp_hXFe2"
      },
      "outputs": [],
      "source": [
        "from typing import List\n",
        "\n",
        "import numpy as np\n",
        "\n",
        "\n",
        "def cumulative_gain(relevance: List[float], k: int) -> float:\n",
        "    \"\"\"Score is cumulative gain at k (CG@k)\n",
        "\n",
        "    Parameters\n",
        "    ----------\n",
        "    relevance:  `List[float]`\n",
        "        Relevance labels (Ranks)\n",
        "    k : `int`\n",
        "        Number of elements to be counted\n",
        "\n",
        "    Returns\n",
        "    -------\n",
        "    score : float\n",
        "    \"\"\"\n",
        "    score = round(sum(relevance), 3)\n",
        "    return score\n"
      ]
    },
    {
      "cell_type": "code",
      "source": [
        "relevance = [0.99, 0.94, 0.88, 0.74, 0.71, 0.68]\n",
        "k = 5\n",
        "print(cumulative_gain(relevance, k))"
      ],
      "metadata": {
        "colab": {
          "base_uri": "https://localhost:8080/"
        },
        "id": "HUG4PG9wXO93",
        "outputId": "3fc9d798-1461-4430-eabb-cdf2920515fa"
      },
      "execution_count": 4,
      "outputs": [
        {
          "output_type": "stream",
          "name": "stdout",
          "text": [
            "4.94\n"
          ]
        }
      ]
    },
    {
      "cell_type": "markdown",
      "source": [
        "**DCG@k - (Discounted Cumulative Gain)**"
      ],
      "metadata": {
        "id": "htDZQsY_Xr0h"
      }
    },
    {
      "cell_type": "code",
      "source": [
        "from typing import List\n",
        "import math\n",
        "import numpy as np\n",
        "\n",
        "\n",
        "def discounted_cumulative_gain(relevance: List[float], k: int, method: str = \"standard\") -> float:\n",
        "    \"\"\"Discounted Cumulative Gain\n",
        "\n",
        "    Parameters\n",
        "    ----------\n",
        "    relevance : `List[float]`\n",
        "        Video relevance list\n",
        "    k : `int`\n",
        "        Count relevance to compute\n",
        "    method : `str`, optional\n",
        "        Metric implementation method, takes the values​​\n",
        "        `standard` - adds weight to the denominator\n",
        "        `industry` - adds weights to the numerator and denominator\n",
        "        `raise ValueError` - for any value\n",
        "\n",
        "    Returns\n",
        "    -------\n",
        "    score : `float`\n",
        "        Metric score\n",
        "    \"\"\"\n",
        "    if method == 'standard':\n",
        "      score = sum([relevance[i]/math.log2(i+2) for i in range(k)])\n",
        "    else:\n",
        "      score = sum([2**(relevance[i])-1/math.log2(i+2) for i in range(k)])\n",
        "\n",
        "    return score"
      ],
      "metadata": {
        "id": "OtXOSGqzaJ1t"
      },
      "execution_count": 82,
      "outputs": []
    },
    {
      "cell_type": "code",
      "source": [
        "relevance = [0.99, 0.94, 0.88, 0.74, 0.71, 0.68]\n",
        "k = 5\n",
        "method = 'standard'\n",
        "print(discounted_cumulative_gain(relevance, k, method))"
      ],
      "metadata": {
        "colab": {
          "base_uri": "https://localhost:8080/"
        },
        "id": "ykYlt8gpaJ4c",
        "outputId": "c2fcfa67-f5c0-48a2-fb9b-6ee135c1c894"
      },
      "execution_count": 83,
      "outputs": [
        {
          "output_type": "stream",
          "name": "stdout",
          "text": [
            "2.6164401144680056\n"
          ]
        }
      ]
    },
    {
      "cell_type": "markdown",
      "source": [
        "** nDCG - Normalized Discounted Cumulative Gain**"
      ],
      "metadata": {
        "id": "gNa-AqHJksnu"
      }
    },
    {
      "cell_type": "code",
      "source": [
        "from typing import List\n",
        "\n",
        "import numpy as np\n",
        "\n",
        "\n",
        "def normalized_dcg(relevance: List[float], k: int, method: str = \"standard\") -> float:\n",
        "    \"\"\"Normalized Discounted Cumulative Gain.\n",
        "\n",
        "    Parameters\n",
        "    ----------\n",
        "    relevance : `List[float]`\n",
        "        Video relevance list\n",
        "    k : `int`\n",
        "        Count relevance to compute\n",
        "    method : `str`, optional\n",
        "        Metric implementation method, takes the values\n",
        "        `standard` - adds weight to the denominator\n",
        "        `industry` - adds weights to the numerator and denominator\n",
        "        `raise ValueError` - for any value\n",
        "\n",
        "    Returns\n",
        "    -------\n",
        "    score : `float`\n",
        "        Metric score\n",
        "    \"\"\"\n",
        "\n",
        "    iDCG_lst = sorted(relevance)[::-1]\n",
        "    iDCG = sum([iDCG_lst[i]/math.log2(i+2) for i in range(k)])\n",
        "\n",
        "    if method == 'standard':\n",
        "      DCG = sum([relevance[i]/math.log2(i+2) for i in range(k)])\n",
        "    elif method == 'industry':\n",
        "      DCG = sum([2**(relevance[i]) - 1/math.log2(i+2) for i in range(k)])\n",
        "\n",
        "    score = DCG/iDCG\n",
        "\n",
        "    return score"
      ],
      "metadata": {
        "id": "H2NwVB-9kwR5"
      },
      "execution_count": 88,
      "outputs": []
    },
    {
      "cell_type": "code",
      "source": [
        "relevance = [0.99, 0.94, 0.74, 0.88, 0.71, 0.68]\n",
        "k = 5\n",
        "method = 'standard'\n",
        "print(normalized_dcg(relevance, k, method))"
      ],
      "metadata": {
        "colab": {
          "base_uri": "https://localhost:8080/"
        },
        "id": "DfthpBfIk7IB",
        "outputId": "6ac4eb1b-e8a2-4c4a-8079-3bade0b7d719"
      },
      "execution_count": 89,
      "outputs": [
        {
          "output_type": "stream",
          "name": "stdout",
          "text": [
            "0.9962906539247512\n"
          ]
        }
      ]
    },
    {
      "cell_type": "markdown",
      "source": [
        "**Average nDCG - Average Normalized Discounted Cumulative Gain**"
      ],
      "metadata": {
        "id": "RFifIURdEDiL"
      }
    },
    {
      "cell_type": "code",
      "source": [
        "from typing import List\n",
        "\n",
        "import numpy as np\n",
        "\n",
        "def avg_ndcg(list_relevances: List[List[float]], k: int, method: str = 'standard') -> float:\n",
        "    \"\"\"Average nDCG\n",
        "\n",
        "    Parameters\n",
        "    ----------\n",
        "    list_relevances : `List[List[float]]`\n",
        "        Video relevance matrix for various queries\n",
        "    k : `int`\n",
        "        Count relevance to compute\n",
        "    method : `str`, optional\n",
        "        Metric implementation method, takes the values ​​\\\n",
        "        `standard` - adds weight to the denominator\\\n",
        "        `industry` - adds weights to the numerator and denominator\\\n",
        "        `raise ValueError` - for any value\n",
        "\n",
        "    Returns\n",
        "    -------\n",
        "    score : `float`\n",
        "        Metric score\n",
        "    \"\"\"\n",
        "    av_nDCG = []\n",
        "\n",
        "    for elem in list_relevances:\n",
        "\n",
        "        iDCG_lst = sorted(elem)[::-1]\n",
        "        iDCG = sum([iDCG_lst[i]/math.log2(i+2) for i in range(k)])\n",
        "\n",
        "        if method == 'standard':\n",
        "          DCG = sum([elem[i]/math.log2(i+2) for i in range(k)])\n",
        "        elif method == 'industry':\n",
        "          DCG = sum([2**(elem[i]) - 1/math.log2(i+2) for i in range(k)])\n",
        "        score = DCG/iDCG\n",
        "\n",
        "        av_nDCG.append(score)\n",
        "\n",
        "    score = sum(av_nDCG)/len(av_nDCG)\n",
        "\n",
        "    return score"
      ],
      "metadata": {
        "id": "871TNPVGk7NW"
      },
      "execution_count": 92,
      "outputs": []
    },
    {
      "cell_type": "code",
      "source": [
        "list_relevances = [[0.99, 0.94, 0.88, 0.89, 0.72, 0.65],\n",
        "                   [0.99, 0.92, 0.93, 0.74, 0.61, 0.68], \n",
        "                   [0.99, 0.96, 0.81, 0.73, 0.76, 0.69]]  \n",
        "k = 5\n",
        "method = 'standard'\n",
        "print(avg_ndcg(list_relevances, k, method))\n"
      ],
      "metadata": {
        "colab": {
          "base_uri": "https://localhost:8080/"
        },
        "id": "3phYzoRBEM68",
        "outputId": "b0c4e863-eb53-4981-9333-e47d8aa64636"
      },
      "execution_count": 93,
      "outputs": [
        {
          "output_type": "stream",
          "name": "stdout",
          "text": [
            "0.9961322104432755\n"
          ]
        }
      ]
    }
  ]
}